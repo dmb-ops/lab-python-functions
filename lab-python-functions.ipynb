{
 "cells": [
  {
   "cell_type": "markdown",
   "id": "25d7736c-ba17-4aff-b6bb-66eba20fbf4e",
   "metadata": {},
   "source": [
    "# Lab | Functions"
   ]
  },
  {
   "cell_type": "markdown",
   "id": "0c581062-8967-4d93-b06e-62833222f930",
   "metadata": {
    "tags": []
   },
   "source": [
    "## Exercise: Managing Customer Orders with Functions\n",
    "\n",
    "In the previous exercise, you improved the code for managing customer orders by using loops and flow control. Now, let's take it a step further and refactor the code by introducing functions.\n",
    "\n",
    "Follow the steps below to complete the exercise:\n",
    "\n",
    "1. Define a function named `initialize_inventory` that takes `products` as a parameter. Inside the function, implement the code for initializing the inventory dictionary using a loop and user input.\n",
    "\n",
    "2. Define a function named `get_customer_orders` that takes no parameters. Inside the function, implement the code for prompting the user to enter the product names using a loop. The function should return the `customer_orders` set.\n",
    "\n",
    "3. Define a function named `update_inventory` that takes `customer_orders` and `inventory` as parameters. Inside the function, implement the code for updating the inventory dictionary based on the customer orders.\n",
    "\n",
    "4. Define a function named `calculate_order_statistics` that takes `customer_orders` and `products` as parameters. Inside the function, implement the code for calculating the order statistics (total products ordered, and percentage of unique products ordered). The function should return these values.\n",
    "\n",
    "5. Define a function named `print_order_statistics` that takes `order_statistics` as a parameter. Inside the function, implement the code for printing the order statistics.\n",
    "\n",
    "6. Define a function named `print_updated_inventory` that takes `inventory` as a parameter. Inside the function, implement the code for printing the updated inventory.\n",
    "\n",
    "7. Call the functions in the appropriate sequence to execute the program and manage customer orders.\n",
    "\n",
    "Hints for functions:\n",
    "\n",
    "- Consider the input parameters required for each function and their return values.\n",
    "- Utilize function parameters and return values to transfer data between functions.\n",
    "- Test your functions individually to ensure they work correctly.\n",
    "\n",
    "\n"
   ]
  },
  {
   "cell_type": "code",
   "execution_count": 2,
   "id": "b1e26a7a-524e-4a76-bfe4-f6448948932f",
   "metadata": {},
   "outputs": [
    {
     "name": "stdout",
     "output_type": "stream",
     "text": [
      "Enter inventory quantity for each product:\n"
     ]
    },
    {
     "name": "stdin",
     "output_type": "stream",
     "text": [
      "Enter quantity for Apples:  5\n",
      "Enter quantity for Bananas:  4\n",
      "Enter quantity for Oranges:  5\n",
      "Enter quantity for Grapes:  6\n",
      "Enter quantity for Peaches:  5\n"
     ]
    },
    {
     "name": "stdout",
     "output_type": "stream",
     "text": [
      "Enter product names one by one. Type 'done' to finish.\n"
     ]
    },
    {
     "name": "stdin",
     "output_type": "stream",
     "text": [
      "Enter product name:  Apples \n",
      "Enter product name:  bananas\n",
      "Enter product name:  grapes\n",
      "Enter product name:  done\n"
     ]
    },
    {
     "name": "stdout",
     "output_type": "stream",
     "text": [
      "bananas is not found in inventory.\n",
      "grapes is not found in inventory.\n",
      "\n",
      "Order Statistics:\n",
      "Total unique products ordered: 3\n",
      "Percentage of unique products ordered: 60.00%\n",
      "\n",
      "Updated Inventory:\n",
      "Apples: 4\n",
      "Bananas: 4\n",
      "Oranges: 5\n",
      "Grapes: 6\n",
      "Peaches: 5\n"
     ]
    }
   ],
   "source": [
    "def initialize_inventory(products):\n",
    "    inventory = {}\n",
    "    print(\"Enter inventory quantity for each product:\")\n",
    "    for product in products:\n",
    "        quantity = int(input(f\"Enter quantity for {product}: \"))\n",
    "        inventory[product] = quantity\n",
    "    return inventory\n",
    "\n",
    "# Define a function to get customer orders from user input\n",
    "def get_customer_orders():\n",
    "    customer_orders = set()\n",
    "    print(\"Enter product names one by one. Type 'done' to finish.\")\n",
    "    while True:\n",
    "        product = input(\"Enter product name: \").strip()\n",
    "        if product.lower() == 'done':\n",
    "            break\n",
    "        customer_orders.add(product)\n",
    "    return customer_orders\n",
    "\n",
    "# Define a function to update the inventory based on customer orders\n",
    "def update_inventory(customer_orders, inventory):\n",
    "    for product in customer_orders:\n",
    "        if product in inventory and inventory[product] > 0:\n",
    "            inventory[product] -= 1\n",
    "        elif product in inventory:\n",
    "            print(f\"{product} is out of stock!\")\n",
    "        else:\n",
    "            print(f\"{product} is not found in inventory.\")\n",
    "\n",
    "# Define a function to calculate order statistics\n",
    "def calculate_order_statistics(customer_orders, products):\n",
    "    total_ordered = len(customer_orders)\n",
    "    total_unique_products = len(products)\n",
    "    percentage_unique_ordered = (total_ordered / total_unique_products) * 100 if total_unique_products > 0 else 0\n",
    "    return total_ordered, percentage_unique_ordered\n",
    "\n",
    "# Define a function to print order statistics\n",
    "def print_order_statistics(order_statistics):\n",
    "    total_ordered, percentage_unique_ordered = order_statistics\n",
    "    print(\"\\nOrder Statistics:\")\n",
    "    print(f\"Total unique products ordered: {total_ordered}\")\n",
    "    print(f\"Percentage of unique products ordered: {percentage_unique_ordered:.2f}%\")\n",
    "\n",
    "# Define a function to print the updated inventory\n",
    "def print_updated_inventory(inventory):\n",
    "    print(\"\\nUpdated Inventory:\")\n",
    "    for product, quantity in inventory.items():\n",
    "        print(f\"{product}: {quantity}\")\n",
    "\n",
    "# MAIN PROGRAM EXECUTION\n",
    "def main():\n",
    "    \n",
    "    products = [\"Apples\", \"Bananas\", \"Oranges\", \"Grapes\", \"Peaches\"]\n",
    "    \n",
    "    inventory = initialize_inventory(products)\n",
    "    customer_orders = get_customer_orders()\n",
    "    update_inventory(customer_orders, inventory)\n",
    "    \n",
    "    order_stats = calculate_order_statistics(customer_orders, products)\n",
    "    print_order_statistics(order_stats)\n",
    "    print_updated_inventory(inventory)\n",
    "\n",
    "#  To run  the program\n",
    "main()"
   ]
  },
  {
   "cell_type": "code",
   "execution_count": null,
   "id": "88dd0917-7ee1-47a2-adbb-f3246a795c65",
   "metadata": {},
   "outputs": [],
   "source": []
  }
 ],
 "metadata": {
  "kernelspec": {
   "display_name": "venv",
   "language": "python",
   "name": "venv"
  },
  "language_info": {
   "codemirror_mode": {
    "name": "ipython",
    "version": 3
   },
   "file_extension": ".py",
   "mimetype": "text/x-python",
   "name": "python",
   "nbconvert_exporter": "python",
   "pygments_lexer": "ipython3",
   "version": "3.12.7"
  }
 },
 "nbformat": 4,
 "nbformat_minor": 5
}
